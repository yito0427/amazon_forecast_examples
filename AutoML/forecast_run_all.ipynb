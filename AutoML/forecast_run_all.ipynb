{
 "cells": [
  {
   "cell_type": "markdown",
   "id": "bd9649b6",
   "metadata": {},
   "source": [
    "# AutoMLをAPIを利用して使う\n",
    "\n",
    "データは時系列データ、関連時系列データ、アイテムメタデータの3種を使う\n",
    "\n",
    "＜利用データ＞\n",
    "\n",
    "https://github.com/aws-samples/amazon-forecast-samples/tree/main/notebooks/advanced/Item_Level_Explainability/InstrumentData"
   ]
  },
  {
   "cell_type": "markdown",
   "id": "57256136",
   "metadata": {},
   "source": [
    "## 参考：waitコードなど\n",
    "\n",
    "https://github.com/aws-samples/amazon-forecast-samples/blob/main/notebooks/basic/Getting_Started/Amazon_Forecast_Quick_Start_Guide.ipynb"
   ]
  },
  {
   "cell_type": "markdown",
   "id": "bfc8e7a3",
   "metadata": {},
   "source": [
    "# まずは、RETAILドメインで学習を通す"
   ]
  },
  {
   "cell_type": "code",
   "execution_count": null,
   "id": "fc34fb8b",
   "metadata": {},
   "outputs": [],
   "source": [
    "DATA_VERSION = 'demo--forecast'"
   ]
  },
  {
   "cell_type": "code",
   "execution_count": null,
   "id": "50fb7f5c",
   "metadata": {},
   "outputs": [],
   "source": [
    "import sys\n",
    "import os\n",
    "import boto3\n",
    "import pandas as pd"
   ]
  },
  {
   "cell_type": "code",
   "execution_count": null,
   "id": "474d7cbd",
   "metadata": {},
   "outputs": [],
   "source": [
    "import datetime\n",
    "date = datetime.datetime.now()\n",
    "now = datetime.datetime.today()\n",
    "DATA_VERSION = now.strftime('%m%d%H%M')"
   ]
  },
  {
   "cell_type": "markdown",
   "id": "e9cb20d3",
   "metadata": {},
   "source": [
    "### S3へデータをアップロード"
   ]
  },
  {
   "cell_type": "code",
   "execution_count": null,
   "id": "30f30480",
   "metadata": {},
   "outputs": [],
   "source": [
    "datasetArns = []\n",
    "REGION = \"ap-northeast-1\"\n",
    "DOMEIN = \"RETAIL\""
   ]
  },
  {
   "cell_type": "code",
   "execution_count": null,
   "id": "af9b7468",
   "metadata": {},
   "outputs": [],
   "source": [
    "s3_client = boto3.client('s3', region_name= REGION)"
   ]
  },
  {
   "cell_type": "code",
   "execution_count": null,
   "id": "983ab2d6",
   "metadata": {},
   "outputs": [],
   "source": [
    "bucket = 'demo--forecast'\n",
    "key = f'automl/input'\n",
    "\n",
    "tts_filename= 'TTS.csv'\n",
    "s3_client.upload_file(f'input/{tts_filename}', bucket, f'{key}/{tts_filename}')"
   ]
  },
  {
   "cell_type": "code",
   "execution_count": null,
   "id": "c8278faf",
   "metadata": {},
   "outputs": [],
   "source": [
    "rts_filename= 'RTS.csv'\n",
    "s3_client.upload_file(f'input/{rts_filename}', bucket, f'{key}/{rts_filename}')"
   ]
  },
  {
   "cell_type": "code",
   "execution_count": null,
   "id": "a80a7bec",
   "metadata": {},
   "outputs": [],
   "source": [
    "im_filename= 'IM.csv'\n",
    "s3_client.upload_file(f'input/{im_filename}', bucket, f'{key}/{im_filename}')"
   ]
  },
  {
   "cell_type": "markdown",
   "id": "19737336",
   "metadata": {},
   "source": [
    "# 2. DatasetGroup作成"
   ]
  },
  {
   "cell_type": "code",
   "execution_count": null,
   "id": "4ccb9dd8",
   "metadata": {},
   "outputs": [],
   "source": [
    "forecast = boto3.client('forecast', region_name= REGION)"
   ]
  },
  {
   "cell_type": "code",
   "execution_count": null,
   "id": "e22cb551",
   "metadata": {},
   "outputs": [],
   "source": [
    "#データセットグループを作成\n",
    "create_dataset_group_response = forecast.create_dataset_group(\n",
    "    DatasetGroupName=f'forecast_dataset{DATA_VERSION}',\n",
    "    Domain=DOMEIN,\n",
    ")\n",
    "datasetGroupArn = create_dataset_group_response['DatasetGroupArn']"
   ]
  },
  {
   "cell_type": "markdown",
   "id": "b197ba54",
   "metadata": {},
   "source": [
    "# 3.DataSet作成"
   ]
  },
  {
   "cell_type": "code",
   "execution_count": null,
   "id": "2ad14d2b",
   "metadata": {},
   "outputs": [],
   "source": []
  },
  {
   "cell_type": "code",
   "execution_count": null,
   "id": "5226828b",
   "metadata": {},
   "outputs": [],
   "source": [
    "# Target time series dataのデータセットを作成\n",
    "create_dataset_response_tts = forecast.create_dataset(\n",
    "    DatasetName=f'forecast_ttsd{DATA_VERSION}',\n",
    "    Domain=DOMEIN,\n",
    "    DatasetType='TARGET_TIME_SERIES',\n",
    "    DataFrequency='1M',\n",
    "    Schema={\n",
    "        'Attributes': [\n",
    "            {\n",
    "                'AttributeName': 'Timestamp',\n",
    "                'AttributeType': 'timestamp'\n",
    "            },\n",
    "            {\n",
    "                'AttributeName': 'Model_ID',\n",
    "                'AttributeType': 'string'\n",
    "            },\n",
    "            {\n",
    "                'AttributeName': 'Order_Quality',\n",
    "                'AttributeType': 'float'\n",
    "            }\n",
    "        ]\n",
    "    }\n",
    ")\n",
    "\n",
    "# データセットグループの配列にデータセットを追加\n",
    "datasetArn = create_dataset_response_tts['DatasetArn']\n",
    "datasetArns.append(datasetArn)"
   ]
  },
  {
   "cell_type": "code",
   "execution_count": null,
   "id": "67782bcf",
   "metadata": {},
   "outputs": [],
   "source": [
    "# Related time series dataのデータセットを作成\n",
    "create_dataset_response_rts = forecast.create_dataset(\n",
    "    DatasetName=f'forecast_rtsd{DATA_VERSION}',\n",
    "    Domain=DOMEIN,\n",
    "    DatasetType='RELATED_TIME_SERIES',\n",
    "    DataFrequency='1M',\n",
    "    Schema={\n",
    "        'Attributes': [\n",
    "            {\n",
    "                'AttributeName': 'Timestamp',\n",
    "                'AttributeType': 'timestamp'\n",
    "            },\n",
    "            {\n",
    "                'AttributeName': 'Model_ID',\n",
    "                'AttributeType': 'string'\n",
    "            },\n",
    "\n",
    "            {\n",
    "                'AttributeName': 'Loss_Rate',\n",
    "                'AttributeType': 'float'\n",
    "            },\n",
    "            {\n",
    "                'AttributeName': 'Customer_Request',\n",
    "                'AttributeType': 'float'\n",
    "            }\n",
    "        ]\n",
    "    }\n",
    ")"
   ]
  },
  {
   "cell_type": "code",
   "execution_count": null,
   "id": "1d4e5344",
   "metadata": {},
   "outputs": [],
   "source": [
    "# データセットグループの配列にデータセットを追加\n",
    "datasetArn = create_dataset_response_rts['DatasetArn']\n",
    "datasetArns.append(datasetArn)"
   ]
  },
  {
   "cell_type": "code",
   "execution_count": null,
   "id": "bb0b2f96",
   "metadata": {},
   "outputs": [],
   "source": [
    "# Item metadata dataのデータセットを作成\n",
    "create_dataset_response_im = forecast.create_dataset(\n",
    "    DatasetName=f'forecast_imd{DATA_VERSION}',\n",
    "    Domain=DOMEIN,\n",
    "    DatasetType='ITEM_METADATA',\n",
    "    DataFrequency='1M',\n",
    "    Schema={\n",
    "        'Attributes': [\n",
    "            {\n",
    "                'AttributeName': 'Model_ID',\n",
    "                'AttributeType': 'string'\n",
    "            },\n",
    "            {\n",
    "                'AttributeName': 'Model_Type',\n",
    "                'AttributeType': 'string'\n",
    "            }\n",
    "        ]\n",
    "    }\n",
    ")\n",
    "# データセットグループの配列にデータセットを追加\n",
    "datasetArn = create_dataset_response_im['DatasetArn']\n",
    "datasetArns.append(datasetArn)"
   ]
  },
  {
   "cell_type": "code",
   "execution_count": null,
   "id": "8d858621",
   "metadata": {},
   "outputs": [],
   "source": [
    "# データセットグループにデータセットを登録\n",
    "forecast.update_dataset_group(DatasetGroupArn=datasetGroupArn, DatasetArns=datasetArns)\n",
    "print(\"DataSet Creation OK\")"
   ]
  },
  {
   "cell_type": "markdown",
   "id": "8b8c4c57",
   "metadata": {},
   "source": [
    "# 4.学習データのimport"
   ]
  },
  {
   "cell_type": "code",
   "execution_count": null,
   "id": "dd23ca8e",
   "metadata": {},
   "outputs": [],
   "source": [
    "from sagemaker import get_execution_role\n",
    "\n",
    "role = get_execution_role()\n",
    "print(role)"
   ]
  },
  {
   "cell_type": "code",
   "execution_count": null,
   "id": "31838eb7",
   "metadata": {},
   "outputs": [],
   "source": [
    "f's3://{bucket}/{key}/{tts_filename}'"
   ]
  },
  {
   "cell_type": "code",
   "execution_count": null,
   "id": "6213aed7",
   "metadata": {},
   "outputs": [],
   "source": [
    "#学習データをアップロード(TargetTimeSeries)\n",
    "response = forecast.create_dataset_import_job(\n",
    "    DatasetImportJobName='forecast_ttsd_import',\n",
    "    DatasetArn=create_dataset_response_tts['DatasetArn'],\n",
    "    DataSource={\n",
    "        'S3Config': {\n",
    "            'Path': f's3://{bucket}/{key}/{tts_filename}',\n",
    "            'RoleArn': role,\n",
    "        }\n",
    "    },\n",
    ")\n",
    "dataset_import_job_arn_tts=response['DatasetImportJobArn']"
   ]
  },
  {
   "cell_type": "code",
   "execution_count": null,
   "id": "e2915edd",
   "metadata": {},
   "outputs": [],
   "source": [
    "#学習データをアップロード(RelatedTimeSeries)\n",
    "response = forecast.create_dataset_import_job(\n",
    "    DatasetImportJobName='forecast_rtsd_import',\n",
    "    DatasetArn=create_dataset_response_rts['DatasetArn'],\n",
    "    DataSource={\n",
    "        'S3Config': {\n",
    "            'Path': f's3://{bucket}/{key}/{rts_filename}',\n",
    "            'RoleArn': role,\n",
    "        }\n",
    "    },\n",
    "    TimestampFormat='yyyy-MM-dd HH:mm:ss'\n",
    ")\n",
    "dataset_import_job_arn_rts=response['DatasetImportJobArn']"
   ]
  },
  {
   "cell_type": "code",
   "execution_count": null,
   "id": "896ae802",
   "metadata": {},
   "outputs": [],
   "source": [
    "#学習データをアップロード(item_meta)\n",
    "response = forecast.create_dataset_import_job(\n",
    "    DatasetImportJobName='forecast_imd_import',\n",
    "    DatasetArn=create_dataset_response_im['DatasetArn'],\n",
    "    DataSource={\n",
    "        'S3Config': {\n",
    "            'Path': f's3://{bucket}/{key}/{im_filename}',\n",
    "            'RoleArn': role,\n",
    "        }\n",
    "    },\n",
    "    TimestampFormat='yyyy-MM-dd HH:mm:ss'\n",
    ")\n",
    "dataset_import_job_arn_im=response['DatasetImportJobArn']"
   ]
  },
  {
   "cell_type": "markdown",
   "id": "42352ff1",
   "metadata": {},
   "source": [
    "## jobの確認\n",
    "CreateDatasetImportJobのQuota limit は 3\n",
    "\n",
    "stopする場合はstop_resource()を利用\n",
    "\n",
    "https://boto3.amazonaws.com/v1/documentation/api/latest/reference/services/forecast.html#ForecastService.Client.stop_resource\n",
    "\n",
    "\n",
    "importジョブを表示\n",
    "\n",
    "https://boto3.amazonaws.com/v1/documentation/api/latest/reference/services/forecast.html#ForecastService.Client.list_dataset_import_jobs"
   ]
  },
  {
   "cell_type": "code",
   "execution_count": null,
   "id": "7c9233d6",
   "metadata": {},
   "outputs": [],
   "source": [
    "forecast.list_dataset_import_jobs(Filters=[{\"Condition\": \"IS\",\n",
    "                                            \"Key\": \"Status\",\n",
    "                                            \"Value\": \"CREATE_IN_PROGRESS\" },\n",
    "                                          ]\n",
    "                                 )"
   ]
  },
  {
   "cell_type": "code",
   "execution_count": null,
   "id": "126c7f6d",
   "metadata": {},
   "outputs": [],
   "source": [
    "#forecast.list_dataset_import_jobs()"
   ]
  },
  {
   "cell_type": "code",
   "execution_count": null,
   "id": "cc1bc396",
   "metadata": {},
   "outputs": [],
   "source": []
  },
  {
   "cell_type": "code",
   "execution_count": null,
   "id": "c11e7073",
   "metadata": {},
   "outputs": [],
   "source": []
  },
  {
   "cell_type": "markdown",
   "id": "17acd0ad",
   "metadata": {},
   "source": [
    "## importが完了するまでwait\n",
    "\n",
    "https://github.com/aws-samples/amazon-forecast-samples/blob/main/notebooks/basic/Getting_Started/Amazon_Forecast_Quick_Start_Guide.ipynb"
   ]
  },
  {
   "cell_type": "markdown",
   "id": "7848597c",
   "metadata": {},
   "source": [
    "wait関数\n",
    "\n",
    "https://github.com/aws-samples/amazon-forecast-samples/blob/65b83b2f53e11274567ab545baf8ebeca101540b/notebooks/common/util/fcst_utils.py#L35"
   ]
  },
  {
   "cell_type": "code",
   "execution_count": null,
   "id": "9738c9dc",
   "metadata": {},
   "outputs": [],
   "source": [
    "class StatusIndicator:\n",
    "    \n",
    "    def __init__(self):\n",
    "        self.previous_status = None\n",
    "        self.need_newline = False\n",
    "        \n",
    "    def update( self, status ):\n",
    "        if self.previous_status != status:\n",
    "            if self.need_newline:\n",
    "                sys.stdout.write(\"\\n\")\n",
    "            sys.stdout.write( status + \" \")\n",
    "            self.need_newline = True\n",
    "            self.previous_status = status\n",
    "        else:\n",
    "            sys.stdout.write(\".\")\n",
    "            self.need_newline = True\n",
    "        sys.stdout.flush()\n",
    "\n",
    "    def end(self):\n",
    "        if self.need_newline:\n",
    "            sys.stdout.write(\"\\n\")"
   ]
  },
  {
   "cell_type": "code",
   "execution_count": null,
   "id": "bae63474",
   "metadata": {},
   "outputs": [],
   "source": [
    "import time\n",
    "\n",
    "def wait(callback, time_interval = 10):\n",
    "\n",
    "    status_indicator = StatusIndicator()\n",
    "\n",
    "    while True:\n",
    "        status = callback()['Status']\n",
    "        status_indicator.update(status)\n",
    "        if status in ('ACTIVE', 'CREATE_FAILED'): break\n",
    "        time.sleep(time_interval)\n",
    "\n",
    "    status_indicator.end()\n",
    "    \n",
    "    return (status==\"ACTIVE\")"
   ]
  },
  {
   "cell_type": "code",
   "execution_count": null,
   "id": "753bb79b",
   "metadata": {},
   "outputs": [],
   "source": [
    "status = wait(lambda: forecast.describe_dataset_import_job(DatasetImportJobArn=dataset_import_job_arn_tts))\n",
    "assert status\n",
    "print(\"Import TTS OK\")\n",
    "status = wait(lambda: forecast.describe_dataset_import_job(DatasetImportJobArn=dataset_import_job_arn_rts))\n",
    "assert status\n",
    "print(\"Import RTS OK\")\n",
    "status = wait(lambda: forecast.describe_dataset_import_job(DatasetImportJobArn=dataset_import_job_arn_im))\n",
    "assert status\n",
    "print(\"Import IM OK\")"
   ]
  },
  {
   "cell_type": "markdown",
   "id": "165da23f",
   "metadata": {},
   "source": [
    "# predictor作成"
   ]
  },
  {
   "cell_type": "code",
   "execution_count": null,
   "id": "14bc2bfb",
   "metadata": {},
   "outputs": [],
   "source": [
    "# 確認\n",
    "datasetGroupArn"
   ]
  },
  {
   "cell_type": "code",
   "execution_count": null,
   "id": "640a8f39",
   "metadata": {},
   "outputs": [],
   "source": [
    "#予測モデル作成\n",
    "response = forecast.create_predictor(\n",
    "    PredictorName=f'forecast_dataset_predictor{DATA_VERSION}',\n",
    "    ForecastHorizon=12,\n",
    "    PerformAutoML=True,\n",
    "    InputDataConfig={\n",
    "        #'DatasetGroupArn': f'arn:aws:forecast:{REGION}:00000000:dataset-group/forecast_dataset{DATA_VERSION}',\n",
    "        'DatasetGroupArn': datasetGroupArn,\n",
    "    },\n",
    "    FeaturizationConfig={\n",
    "        'ForecastFrequency': '1M'\n",
    "    }\n",
    ")\n",
    "\n",
    "\n",
    "\n",
    "predictor_arn = response['PredictorArn']\n",
    "print(predictor_arn)\n",
    "status = wait(lambda: forecast.describe_predictor(PredictorArn=predictor_arn))\n",
    "assert status"
   ]
  },
  {
   "cell_type": "markdown",
   "id": "7e9017f7",
   "metadata": {},
   "source": [
    "# forecast作成"
   ]
  },
  {
   "cell_type": "code",
   "execution_count": null,
   "id": "19a18eff",
   "metadata": {},
   "outputs": [],
   "source": [
    "# 確認\n",
    "predictor_arn"
   ]
  },
  {
   "cell_type": "code",
   "execution_count": null,
   "id": "2a416dd8",
   "metadata": {},
   "outputs": [],
   "source": [
    "#予測実行\n",
    "response = forecast.create_forecast(\n",
    "    ForecastName=f'create_forecast_data{DATA_VERSION}',\n",
    "    #PredictorArn=f'arn:aws:forecast:{REGION}:00000000:predictor/forecast_dataset_predictor{DATA_VERSION}',\n",
    "    PredictorArn=predictor_arn,\n",
    "    ForecastTypes=['0.1, 0.5, 0.9']\n",
    ")\n",
    "\n",
    "forecast_create_arn = response['ForecastArn']\n",
    "print(forecast_create_arn)\n",
    "status = wait(lambda: forecast_client.describe_forecast(ForecastArn=forecast_create_arn))\n",
    "assert status"
   ]
  },
  {
   "cell_type": "markdown",
   "id": "e4b944a1",
   "metadata": {},
   "source": [
    "# forecast結果をS3にexport"
   ]
  },
  {
   "cell_type": "code",
   "execution_count": null,
   "id": "c89adf6e",
   "metadata": {},
   "outputs": [],
   "source": [
    "out_dir = f'{bucket}/{key}'\n",
    "out_dir"
   ]
  },
  {
   "cell_type": "code",
   "execution_count": null,
   "id": "08ba2eec",
   "metadata": {},
   "outputs": [],
   "source": [
    "#S3に結果を格納\n",
    "response = forecast.create_forecast_export_job(\n",
    "    ForecastExportJobName='export_forecast',\n",
    "    #ForecastArn=f'arn:aws:forecast:{REGION}:0000000:forecast/create_forecast_data{DATA_VERSION}',\n",
    "    ForecastArn=forecast_create_arn,\n",
    "    Destination={\n",
    "        'S3Config': {\n",
    "            #'Path': f's3://forecastfile/data{DATA_VERSION}',\n",
    "            'Path': f's3://forecastfile/export_forecast{DATA_VERSION}',\n",
    "            #'RoleArn': 'arn:aws:iam::000000:role/service-role/AmazonForecast-ExecutionRole-1660098289634'\n",
    "            'RoleArn': role\n",
    "        }\n",
    "    }\n",
    ")"
   ]
  },
  {
   "cell_type": "markdown",
   "id": "67f4b78f",
   "metadata": {},
   "source": [
    "# clean up\n"
   ]
  },
  {
   "cell_type": "code",
   "execution_count": null,
   "id": "7c696311",
   "metadata": {},
   "outputs": [],
   "source": [
    "import boto3\n",
    "forecast = boto3.client('forecast')"
   ]
  },
  {
   "cell_type": "code",
   "execution_count": null,
   "id": "abd49a48",
   "metadata": {},
   "outputs": [],
   "source": [
    "datase_group_arn = 'arn:aws:forecast:ap-northeast-1:805433377179:dataset-group/forecast_dataset11150703'"
   ]
  },
  {
   "cell_type": "code",
   "execution_count": null,
   "id": "9719c02d",
   "metadata": {},
   "outputs": [],
   "source": [
    "forecast.delete_resource_tree(ResourceArn = datase_group_arn)"
   ]
  },
  {
   "cell_type": "markdown",
   "id": "64ca83fc",
   "metadata": {},
   "source": [
    "# 確認\n",
    "\n"
   ]
  },
  {
   "cell_type": "code",
   "execution_count": null,
   "id": "f36b3ffa",
   "metadata": {},
   "outputs": [],
   "source": []
  },
  {
   "cell_type": "code",
   "execution_count": null,
   "id": "86a950b2",
   "metadata": {},
   "outputs": [],
   "source": []
  },
  {
   "cell_type": "code",
   "execution_count": null,
   "id": "44785b0c",
   "metadata": {},
   "outputs": [],
   "source": []
  },
  {
   "cell_type": "code",
   "execution_count": null,
   "id": "4122da33",
   "metadata": {},
   "outputs": [],
   "source": []
  },
  {
   "cell_type": "code",
   "execution_count": null,
   "id": "9fe96204",
   "metadata": {},
   "outputs": [],
   "source": []
  },
  {
   "cell_type": "code",
   "execution_count": null,
   "id": "55e1b5ba",
   "metadata": {},
   "outputs": [],
   "source": [
    "list_datasets = forecast.list_datasets()"
   ]
  },
  {
   "cell_type": "markdown",
   "id": "834ae1eb",
   "metadata": {},
   "source": [
    "https://boto3.amazonaws.com/v1/documentation/api/latest/reference/services/forecast.html#ForecastService.Client.delete_dataset"
   ]
  },
  {
   "cell_type": "code",
   "execution_count": null,
   "id": "32e4b5c6",
   "metadata": {},
   "outputs": [],
   "source": [
    "for i in range(len(list_datasets['Datasets'])):\n",
    "    print(list_datasets['Datasets'][i]['DatasetArn'])\n",
    "    forecast.delete_dataset(DatasetArn=list_datasets['Datasets'][i]['DatasetArn'])\n",
    "    "
   ]
  },
  {
   "cell_type": "code",
   "execution_count": null,
   "id": "a6175058",
   "metadata": {},
   "outputs": [],
   "source": [
    "#forecast.list_datasets()"
   ]
  },
  {
   "cell_type": "code",
   "execution_count": null,
   "id": "fe75e881",
   "metadata": {},
   "outputs": [],
   "source": []
  }
 ],
 "metadata": {
  "kernelspec": {
   "display_name": "conda_python3",
   "language": "python",
   "name": "conda_python3"
  },
  "language_info": {
   "codemirror_mode": {
    "name": "ipython",
    "version": 3
   },
   "file_extension": ".py",
   "mimetype": "text/x-python",
   "name": "python",
   "nbconvert_exporter": "python",
   "pygments_lexer": "ipython3",
   "version": "3.8.12"
  }
 },
 "nbformat": 4,
 "nbformat_minor": 5
}
