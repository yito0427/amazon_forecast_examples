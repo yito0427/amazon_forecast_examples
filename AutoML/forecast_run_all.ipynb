{
 "cells": [
  {
   "cell_type": "markdown",
   "id": "5a0d341f",
   "metadata": {},
   "source": [
    "# AutoMLをAPIを利用して使う\n",
    "\n",
    "データは時系列データ、関連時系列データ、アイテムメタデータの3種を使う\n",
    "\n",
    "＜利用データ＞\n",
    "\n",
    "https://github.com/aws-samples/amazon-forecast-samples/tree/main/notebooks/advanced/Item_Level_Explainability/InstrumentData"
   ]
  },
  {
   "cell_type": "markdown",
   "id": "811a43c1",
   "metadata": {},
   "source": [
    "## 参考：waitコードなど\n",
    "\n",
    "https://github.com/aws-samples/amazon-forecast-samples/blob/main/notebooks/basic/Getting_Started/Amazon_Forecast_Quick_Start_Guide.ipynb"
   ]
  },
  {
   "cell_type": "markdown",
   "id": "d3138b01",
   "metadata": {},
   "source": [
    "# まずは、RETAILドメインで学習を通す"
   ]
  },
  {
   "cell_type": "code",
   "execution_count": 1,
   "id": "8990d581",
   "metadata": {},
   "outputs": [],
   "source": [
    "DATA_VERSION = 'demo--forecast'"
   ]
  },
  {
   "cell_type": "code",
   "execution_count": 2,
   "id": "1a307e5e",
   "metadata": {},
   "outputs": [],
   "source": [
    "import sys\n",
    "import os\n",
    "import boto3\n",
    "import pandas as pd"
   ]
  },
  {
   "cell_type": "code",
   "execution_count": 3,
   "id": "1b259f59",
   "metadata": {},
   "outputs": [],
   "source": [
    "import datetime\n",
    "date = datetime.datetime.now()\n",
    "now = datetime.datetime.today()\n",
    "DATA_VERSION = now.strftime('%m%d%H%M')"
   ]
  },
  {
   "cell_type": "markdown",
   "id": "daf198b2",
   "metadata": {},
   "source": [
    "### S3へデータをアップロード"
   ]
  },
  {
   "cell_type": "code",
   "execution_count": 5,
   "id": "002c9127",
   "metadata": {},
   "outputs": [],
   "source": [
    "datasetArns = []\n",
    "REGION = \"ap-northeast-1\"\n",
    "DOMEIN = \"RETAIL\""
   ]
  },
  {
   "cell_type": "code",
   "execution_count": 6,
   "id": "b7d88496",
   "metadata": {},
   "outputs": [],
   "source": [
    "s3_client = boto3.client('s3', region_name= REGION)"
   ]
  },
  {
   "cell_type": "code",
   "execution_count": 9,
   "id": "58ba78d8",
   "metadata": {},
   "outputs": [],
   "source": [
    "bucket = 'demo--forecast'\n",
    "key = f'automl/input'\n",
    "\n",
    "tts_filename= 'TTS.csv'\n",
    "s3_client.upload_file(f'input/{tts_filename}', bucket, f'{key}/{tts_filename}')"
   ]
  },
  {
   "cell_type": "code",
   "execution_count": 12,
   "id": "3ea7c8f8",
   "metadata": {},
   "outputs": [],
   "source": [
    "rts_filename= 'RTS.csv'\n",
    "s3_client.upload_file(f'input/{rts_filename}', bucket, f'{key}/{rts_filename}')"
   ]
  },
  {
   "cell_type": "code",
   "execution_count": 13,
   "id": "e17efc59",
   "metadata": {},
   "outputs": [],
   "source": [
    "im_filename= 'IM.csv'\n",
    "s3_client.upload_file(f'input/{im_filename}', bucket, f'{key}/{im_filename}')"
   ]
  },
  {
   "cell_type": "markdown",
   "id": "eedfb649",
   "metadata": {},
   "source": [
    "# 2. DatasetGroup作成"
   ]
  },
  {
   "cell_type": "code",
   "execution_count": 14,
   "id": "b30acf6e",
   "metadata": {},
   "outputs": [],
   "source": [
    "forecast = boto3.client('forecast', region_name= REGION)"
   ]
  },
  {
   "cell_type": "code",
   "execution_count": 15,
   "id": "c0055944",
   "metadata": {},
   "outputs": [],
   "source": [
    "#データセットグループを作成\n",
    "create_dataset_group_response = forecast.create_dataset_group(\n",
    "    DatasetGroupName=f'forecast_dataset{DATA_VERSION}',\n",
    "    Domain=DOMEIN,\n",
    ")\n",
    "datasetGroupArn = create_dataset_group_response['DatasetGroupArn']"
   ]
  },
  {
   "cell_type": "markdown",
   "id": "985b4a31",
   "metadata": {},
   "source": [
    "# 3.DataSet作成"
   ]
  },
  {
   "cell_type": "code",
   "execution_count": null,
   "id": "e964e0e1",
   "metadata": {},
   "outputs": [],
   "source": []
  },
  {
   "cell_type": "code",
   "execution_count": 25,
   "id": "9fc66fec",
   "metadata": {},
   "outputs": [
    {
     "ename": "InvalidInputException",
     "evalue": "An error occurred (InvalidInputException) when calling the CreateDataset operation: The required attribute: \" item_id \" is not present in the schema or headers",
     "output_type": "error",
     "traceback": [
      "\u001b[0;31m---------------------------------------------------------------------------\u001b[0m",
      "\u001b[0;31mInvalidInputException\u001b[0m                     Traceback (most recent call last)",
      "\u001b[0;32m/tmp/ipykernel_19683/3627783084.py\u001b[0m in \u001b[0;36m<cell line: 2>\u001b[0;34m()\u001b[0m\n\u001b[1;32m      1\u001b[0m \u001b[0;31m# Target time series dataのデータセットを作成\u001b[0m\u001b[0;34m\u001b[0m\u001b[0;34m\u001b[0m\u001b[0;34m\u001b[0m\u001b[0m\n\u001b[0;32m----> 2\u001b[0;31m create_dataset_response_tts = forecast.create_dataset(\n\u001b[0m\u001b[1;32m      3\u001b[0m     \u001b[0mDatasetName\u001b[0m\u001b[0;34m=\u001b[0m\u001b[0;34mf'forecast_ttsd{DATA_VERSION}'\u001b[0m\u001b[0;34m,\u001b[0m\u001b[0;34m\u001b[0m\u001b[0;34m\u001b[0m\u001b[0m\n\u001b[1;32m      4\u001b[0m     \u001b[0mDomain\u001b[0m\u001b[0;34m=\u001b[0m\u001b[0mDOMEIN\u001b[0m\u001b[0;34m,\u001b[0m\u001b[0;34m\u001b[0m\u001b[0;34m\u001b[0m\u001b[0m\n\u001b[1;32m      5\u001b[0m     \u001b[0mDatasetType\u001b[0m\u001b[0;34m=\u001b[0m\u001b[0;34m'TARGET_TIME_SERIES'\u001b[0m\u001b[0;34m,\u001b[0m\u001b[0;34m\u001b[0m\u001b[0;34m\u001b[0m\u001b[0m\n",
      "\u001b[0;32m~/anaconda3/envs/python3/lib/python3.8/site-packages/botocore/client.py\u001b[0m in \u001b[0;36m_api_call\u001b[0;34m(self, *args, **kwargs)\u001b[0m\n\u001b[1;32m    393\u001b[0m                     \"%s() only accepts keyword arguments.\" % py_operation_name)\n\u001b[1;32m    394\u001b[0m             \u001b[0;31m# The \"self\" in this scope is referring to the BaseClient.\u001b[0m\u001b[0;34m\u001b[0m\u001b[0;34m\u001b[0m\u001b[0;34m\u001b[0m\u001b[0m\n\u001b[0;32m--> 395\u001b[0;31m             \u001b[0;32mreturn\u001b[0m \u001b[0mself\u001b[0m\u001b[0;34m.\u001b[0m\u001b[0m_make_api_call\u001b[0m\u001b[0;34m(\u001b[0m\u001b[0moperation_name\u001b[0m\u001b[0;34m,\u001b[0m \u001b[0mkwargs\u001b[0m\u001b[0;34m)\u001b[0m\u001b[0;34m\u001b[0m\u001b[0;34m\u001b[0m\u001b[0m\n\u001b[0m\u001b[1;32m    396\u001b[0m \u001b[0;34m\u001b[0m\u001b[0m\n\u001b[1;32m    397\u001b[0m         \u001b[0m_api_call\u001b[0m\u001b[0;34m.\u001b[0m\u001b[0m__name__\u001b[0m \u001b[0;34m=\u001b[0m \u001b[0mstr\u001b[0m\u001b[0;34m(\u001b[0m\u001b[0mpy_operation_name\u001b[0m\u001b[0;34m)\u001b[0m\u001b[0;34m\u001b[0m\u001b[0;34m\u001b[0m\u001b[0m\n",
      "\u001b[0;32m~/anaconda3/envs/python3/lib/python3.8/site-packages/botocore/client.py\u001b[0m in \u001b[0;36m_make_api_call\u001b[0;34m(self, operation_name, api_params)\u001b[0m\n\u001b[1;32m    723\u001b[0m             \u001b[0merror_code\u001b[0m \u001b[0;34m=\u001b[0m \u001b[0mparsed_response\u001b[0m\u001b[0;34m.\u001b[0m\u001b[0mget\u001b[0m\u001b[0;34m(\u001b[0m\u001b[0;34m\"Error\"\u001b[0m\u001b[0;34m,\u001b[0m \u001b[0;34m{\u001b[0m\u001b[0;34m}\u001b[0m\u001b[0;34m)\u001b[0m\u001b[0;34m.\u001b[0m\u001b[0mget\u001b[0m\u001b[0;34m(\u001b[0m\u001b[0;34m\"Code\"\u001b[0m\u001b[0;34m)\u001b[0m\u001b[0;34m\u001b[0m\u001b[0;34m\u001b[0m\u001b[0m\n\u001b[1;32m    724\u001b[0m             \u001b[0merror_class\u001b[0m \u001b[0;34m=\u001b[0m \u001b[0mself\u001b[0m\u001b[0;34m.\u001b[0m\u001b[0mexceptions\u001b[0m\u001b[0;34m.\u001b[0m\u001b[0mfrom_code\u001b[0m\u001b[0;34m(\u001b[0m\u001b[0merror_code\u001b[0m\u001b[0;34m)\u001b[0m\u001b[0;34m\u001b[0m\u001b[0;34m\u001b[0m\u001b[0m\n\u001b[0;32m--> 725\u001b[0;31m             \u001b[0;32mraise\u001b[0m \u001b[0merror_class\u001b[0m\u001b[0;34m(\u001b[0m\u001b[0mparsed_response\u001b[0m\u001b[0;34m,\u001b[0m \u001b[0moperation_name\u001b[0m\u001b[0;34m)\u001b[0m\u001b[0;34m\u001b[0m\u001b[0;34m\u001b[0m\u001b[0m\n\u001b[0m\u001b[1;32m    726\u001b[0m         \u001b[0;32melse\u001b[0m\u001b[0;34m:\u001b[0m\u001b[0;34m\u001b[0m\u001b[0;34m\u001b[0m\u001b[0m\n\u001b[1;32m    727\u001b[0m             \u001b[0;32mreturn\u001b[0m \u001b[0mparsed_response\u001b[0m\u001b[0;34m\u001b[0m\u001b[0;34m\u001b[0m\u001b[0m\n",
      "\u001b[0;31mInvalidInputException\u001b[0m: An error occurred (InvalidInputException) when calling the CreateDataset operation: The required attribute: \" item_id \" is not present in the schema or headers"
     ]
    }
   ],
   "source": [
    "# Target time series dataのデータセットを作成\n",
    "create_dataset_response_tts = forecast.create_dataset(\n",
    "    DatasetName=f'forecast_ttsd{DATA_VERSION}',\n",
    "    Domain=DOMEIN,\n",
    "    DatasetType='TARGET_TIME_SERIES',\n",
    "    DataFrequency='1M',\n",
    "    Schema={\n",
    "        'Attributes': [\n",
    "            {\n",
    "                'AttributeName': 'Timestamp',\n",
    "                'AttributeType': 'timestamp'\n",
    "            },\n",
    "            {\n",
    "                'AttributeName': 'Model_ID',\n",
    "                'AttributeType': 'string'\n",
    "            },\n",
    "            {\n",
    "                'AttributeName': 'Order_Quality',\n",
    "                'AttributeType': 'float'\n",
    "            }\n",
    "        ]\n",
    "    }\n",
    ")\n",
    "\n",
    "# データセットグループの配列にデータセットを追加\n",
    "datasetArn = create_dataset_response_tts['DatasetArn']\n",
    "datasetArns.append(datasetArn)"
   ]
  },
  {
   "cell_type": "code",
   "execution_count": 26,
   "id": "8938e8a5",
   "metadata": {},
   "outputs": [
    {
     "ename": "InvalidInputException",
     "evalue": "An error occurred (InvalidInputException) when calling the CreateDataset operation: The required attribute: \" item_id \" is not present in the schema or headers",
     "output_type": "error",
     "traceback": [
      "\u001b[0;31m---------------------------------------------------------------------------\u001b[0m",
      "\u001b[0;31mInvalidInputException\u001b[0m                     Traceback (most recent call last)",
      "\u001b[0;32m/tmp/ipykernel_19683/1375334205.py\u001b[0m in \u001b[0;36m<cell line: 2>\u001b[0;34m()\u001b[0m\n\u001b[1;32m      1\u001b[0m \u001b[0;31m# Related time series dataのデータセットを作成\u001b[0m\u001b[0;34m\u001b[0m\u001b[0;34m\u001b[0m\u001b[0;34m\u001b[0m\u001b[0m\n\u001b[0;32m----> 2\u001b[0;31m create_dataset_response_rts = forecast.create_dataset(\n\u001b[0m\u001b[1;32m      3\u001b[0m     \u001b[0mDatasetName\u001b[0m\u001b[0;34m=\u001b[0m\u001b[0;34mf'forecast_rtsd{DATA_VERSION}'\u001b[0m\u001b[0;34m,\u001b[0m\u001b[0;34m\u001b[0m\u001b[0;34m\u001b[0m\u001b[0m\n\u001b[1;32m      4\u001b[0m     \u001b[0mDomain\u001b[0m\u001b[0;34m=\u001b[0m\u001b[0mDOMEIN\u001b[0m\u001b[0;34m,\u001b[0m\u001b[0;34m\u001b[0m\u001b[0;34m\u001b[0m\u001b[0m\n\u001b[1;32m      5\u001b[0m     \u001b[0mDatasetType\u001b[0m\u001b[0;34m=\u001b[0m\u001b[0;34m'RELATED_TIME_SERIES'\u001b[0m\u001b[0;34m,\u001b[0m\u001b[0;34m\u001b[0m\u001b[0;34m\u001b[0m\u001b[0m\n",
      "\u001b[0;32m~/anaconda3/envs/python3/lib/python3.8/site-packages/botocore/client.py\u001b[0m in \u001b[0;36m_api_call\u001b[0;34m(self, *args, **kwargs)\u001b[0m\n\u001b[1;32m    393\u001b[0m                     \"%s() only accepts keyword arguments.\" % py_operation_name)\n\u001b[1;32m    394\u001b[0m             \u001b[0;31m# The \"self\" in this scope is referring to the BaseClient.\u001b[0m\u001b[0;34m\u001b[0m\u001b[0;34m\u001b[0m\u001b[0;34m\u001b[0m\u001b[0m\n\u001b[0;32m--> 395\u001b[0;31m             \u001b[0;32mreturn\u001b[0m \u001b[0mself\u001b[0m\u001b[0;34m.\u001b[0m\u001b[0m_make_api_call\u001b[0m\u001b[0;34m(\u001b[0m\u001b[0moperation_name\u001b[0m\u001b[0;34m,\u001b[0m \u001b[0mkwargs\u001b[0m\u001b[0;34m)\u001b[0m\u001b[0;34m\u001b[0m\u001b[0;34m\u001b[0m\u001b[0m\n\u001b[0m\u001b[1;32m    396\u001b[0m \u001b[0;34m\u001b[0m\u001b[0m\n\u001b[1;32m    397\u001b[0m         \u001b[0m_api_call\u001b[0m\u001b[0;34m.\u001b[0m\u001b[0m__name__\u001b[0m \u001b[0;34m=\u001b[0m \u001b[0mstr\u001b[0m\u001b[0;34m(\u001b[0m\u001b[0mpy_operation_name\u001b[0m\u001b[0;34m)\u001b[0m\u001b[0;34m\u001b[0m\u001b[0;34m\u001b[0m\u001b[0m\n",
      "\u001b[0;32m~/anaconda3/envs/python3/lib/python3.8/site-packages/botocore/client.py\u001b[0m in \u001b[0;36m_make_api_call\u001b[0;34m(self, operation_name, api_params)\u001b[0m\n\u001b[1;32m    723\u001b[0m             \u001b[0merror_code\u001b[0m \u001b[0;34m=\u001b[0m \u001b[0mparsed_response\u001b[0m\u001b[0;34m.\u001b[0m\u001b[0mget\u001b[0m\u001b[0;34m(\u001b[0m\u001b[0;34m\"Error\"\u001b[0m\u001b[0;34m,\u001b[0m \u001b[0;34m{\u001b[0m\u001b[0;34m}\u001b[0m\u001b[0;34m)\u001b[0m\u001b[0;34m.\u001b[0m\u001b[0mget\u001b[0m\u001b[0;34m(\u001b[0m\u001b[0;34m\"Code\"\u001b[0m\u001b[0;34m)\u001b[0m\u001b[0;34m\u001b[0m\u001b[0;34m\u001b[0m\u001b[0m\n\u001b[1;32m    724\u001b[0m             \u001b[0merror_class\u001b[0m \u001b[0;34m=\u001b[0m \u001b[0mself\u001b[0m\u001b[0;34m.\u001b[0m\u001b[0mexceptions\u001b[0m\u001b[0;34m.\u001b[0m\u001b[0mfrom_code\u001b[0m\u001b[0;34m(\u001b[0m\u001b[0merror_code\u001b[0m\u001b[0;34m)\u001b[0m\u001b[0;34m\u001b[0m\u001b[0;34m\u001b[0m\u001b[0m\n\u001b[0;32m--> 725\u001b[0;31m             \u001b[0;32mraise\u001b[0m \u001b[0merror_class\u001b[0m\u001b[0;34m(\u001b[0m\u001b[0mparsed_response\u001b[0m\u001b[0;34m,\u001b[0m \u001b[0moperation_name\u001b[0m\u001b[0;34m)\u001b[0m\u001b[0;34m\u001b[0m\u001b[0;34m\u001b[0m\u001b[0m\n\u001b[0m\u001b[1;32m    726\u001b[0m         \u001b[0;32melse\u001b[0m\u001b[0;34m:\u001b[0m\u001b[0;34m\u001b[0m\u001b[0;34m\u001b[0m\u001b[0m\n\u001b[1;32m    727\u001b[0m             \u001b[0;32mreturn\u001b[0m \u001b[0mparsed_response\u001b[0m\u001b[0;34m\u001b[0m\u001b[0;34m\u001b[0m\u001b[0m\n",
      "\u001b[0;31mInvalidInputException\u001b[0m: An error occurred (InvalidInputException) when calling the CreateDataset operation: The required attribute: \" item_id \" is not present in the schema or headers"
     ]
    }
   ],
   "source": [
    "# Related time series dataのデータセットを作成\n",
    "create_dataset_response_rts = forecast.create_dataset(\n",
    "    DatasetName=f'forecast_rtsd{DATA_VERSION}',\n",
    "    Domain=DOMEIN,\n",
    "    DatasetType='RELATED_TIME_SERIES',\n",
    "    DataFrequency='1M',\n",
    "    Schema={\n",
    "        'Attributes': [\n",
    "            {\n",
    "                'AttributeName': 'Timestamp',\n",
    "                'AttributeType': 'timestamp'\n",
    "            },\n",
    "            {\n",
    "                'AttributeName': 'Model_ID',\n",
    "                'AttributeType': 'string'\n",
    "            },\n",
    "\n",
    "            {\n",
    "                'AttributeName': 'Loss_Rate',\n",
    "                'AttributeType': 'float'\n",
    "            },\n",
    "            {\n",
    "                'AttributeName': 'Customer_Request',\n",
    "                'AttributeType': 'float'\n",
    "            }\n",
    "        ]\n",
    "    }\n",
    ")"
   ]
  },
  {
   "cell_type": "code",
   "execution_count": 18,
   "id": "6f50f18d",
   "metadata": {},
   "outputs": [],
   "source": [
    "# データセットグループの配列にデータセットを追加\n",
    "datasetArn = create_dataset_response_rts['DatasetArn']\n",
    "datasetArns.append(datasetArn)"
   ]
  },
  {
   "cell_type": "code",
   "execution_count": 27,
   "id": "bbae6b50",
   "metadata": {},
   "outputs": [
    {
     "ename": "InvalidInputException",
     "evalue": "An error occurred (InvalidInputException) when calling the CreateDataset operation: The required attribute: \" item_id \" is not present in the schema or headers",
     "output_type": "error",
     "traceback": [
      "\u001b[0;31m---------------------------------------------------------------------------\u001b[0m",
      "\u001b[0;31mInvalidInputException\u001b[0m                     Traceback (most recent call last)",
      "\u001b[0;32m/tmp/ipykernel_19683/4022244262.py\u001b[0m in \u001b[0;36m<cell line: 2>\u001b[0;34m()\u001b[0m\n\u001b[1;32m      1\u001b[0m \u001b[0;31m# Item metadata dataのデータセットを作成\u001b[0m\u001b[0;34m\u001b[0m\u001b[0;34m\u001b[0m\u001b[0;34m\u001b[0m\u001b[0m\n\u001b[0;32m----> 2\u001b[0;31m create_dataset_response_im = forecast.create_dataset(\n\u001b[0m\u001b[1;32m      3\u001b[0m     \u001b[0mDatasetName\u001b[0m\u001b[0;34m=\u001b[0m\u001b[0;34mf'forecast_imd{DATA_VERSION}'\u001b[0m\u001b[0;34m,\u001b[0m\u001b[0;34m\u001b[0m\u001b[0;34m\u001b[0m\u001b[0m\n\u001b[1;32m      4\u001b[0m     \u001b[0mDomain\u001b[0m\u001b[0;34m=\u001b[0m\u001b[0mDOMEIN\u001b[0m\u001b[0;34m,\u001b[0m\u001b[0;34m\u001b[0m\u001b[0;34m\u001b[0m\u001b[0m\n\u001b[1;32m      5\u001b[0m     \u001b[0mDatasetType\u001b[0m\u001b[0;34m=\u001b[0m\u001b[0;34m'ITEM_METADATA'\u001b[0m\u001b[0;34m,\u001b[0m\u001b[0;34m\u001b[0m\u001b[0;34m\u001b[0m\u001b[0m\n",
      "\u001b[0;32m~/anaconda3/envs/python3/lib/python3.8/site-packages/botocore/client.py\u001b[0m in \u001b[0;36m_api_call\u001b[0;34m(self, *args, **kwargs)\u001b[0m\n\u001b[1;32m    393\u001b[0m                     \"%s() only accepts keyword arguments.\" % py_operation_name)\n\u001b[1;32m    394\u001b[0m             \u001b[0;31m# The \"self\" in this scope is referring to the BaseClient.\u001b[0m\u001b[0;34m\u001b[0m\u001b[0;34m\u001b[0m\u001b[0;34m\u001b[0m\u001b[0m\n\u001b[0;32m--> 395\u001b[0;31m             \u001b[0;32mreturn\u001b[0m \u001b[0mself\u001b[0m\u001b[0;34m.\u001b[0m\u001b[0m_make_api_call\u001b[0m\u001b[0;34m(\u001b[0m\u001b[0moperation_name\u001b[0m\u001b[0;34m,\u001b[0m \u001b[0mkwargs\u001b[0m\u001b[0;34m)\u001b[0m\u001b[0;34m\u001b[0m\u001b[0;34m\u001b[0m\u001b[0m\n\u001b[0m\u001b[1;32m    396\u001b[0m \u001b[0;34m\u001b[0m\u001b[0m\n\u001b[1;32m    397\u001b[0m         \u001b[0m_api_call\u001b[0m\u001b[0;34m.\u001b[0m\u001b[0m__name__\u001b[0m \u001b[0;34m=\u001b[0m \u001b[0mstr\u001b[0m\u001b[0;34m(\u001b[0m\u001b[0mpy_operation_name\u001b[0m\u001b[0;34m)\u001b[0m\u001b[0;34m\u001b[0m\u001b[0;34m\u001b[0m\u001b[0m\n",
      "\u001b[0;32m~/anaconda3/envs/python3/lib/python3.8/site-packages/botocore/client.py\u001b[0m in \u001b[0;36m_make_api_call\u001b[0;34m(self, operation_name, api_params)\u001b[0m\n\u001b[1;32m    723\u001b[0m             \u001b[0merror_code\u001b[0m \u001b[0;34m=\u001b[0m \u001b[0mparsed_response\u001b[0m\u001b[0;34m.\u001b[0m\u001b[0mget\u001b[0m\u001b[0;34m(\u001b[0m\u001b[0;34m\"Error\"\u001b[0m\u001b[0;34m,\u001b[0m \u001b[0;34m{\u001b[0m\u001b[0;34m}\u001b[0m\u001b[0;34m)\u001b[0m\u001b[0;34m.\u001b[0m\u001b[0mget\u001b[0m\u001b[0;34m(\u001b[0m\u001b[0;34m\"Code\"\u001b[0m\u001b[0;34m)\u001b[0m\u001b[0;34m\u001b[0m\u001b[0;34m\u001b[0m\u001b[0m\n\u001b[1;32m    724\u001b[0m             \u001b[0merror_class\u001b[0m \u001b[0;34m=\u001b[0m \u001b[0mself\u001b[0m\u001b[0;34m.\u001b[0m\u001b[0mexceptions\u001b[0m\u001b[0;34m.\u001b[0m\u001b[0mfrom_code\u001b[0m\u001b[0;34m(\u001b[0m\u001b[0merror_code\u001b[0m\u001b[0;34m)\u001b[0m\u001b[0;34m\u001b[0m\u001b[0;34m\u001b[0m\u001b[0m\n\u001b[0;32m--> 725\u001b[0;31m             \u001b[0;32mraise\u001b[0m \u001b[0merror_class\u001b[0m\u001b[0;34m(\u001b[0m\u001b[0mparsed_response\u001b[0m\u001b[0;34m,\u001b[0m \u001b[0moperation_name\u001b[0m\u001b[0;34m)\u001b[0m\u001b[0;34m\u001b[0m\u001b[0;34m\u001b[0m\u001b[0m\n\u001b[0m\u001b[1;32m    726\u001b[0m         \u001b[0;32melse\u001b[0m\u001b[0;34m:\u001b[0m\u001b[0;34m\u001b[0m\u001b[0;34m\u001b[0m\u001b[0m\n\u001b[1;32m    727\u001b[0m             \u001b[0;32mreturn\u001b[0m \u001b[0mparsed_response\u001b[0m\u001b[0;34m\u001b[0m\u001b[0;34m\u001b[0m\u001b[0m\n",
      "\u001b[0;31mInvalidInputException\u001b[0m: An error occurred (InvalidInputException) when calling the CreateDataset operation: The required attribute: \" item_id \" is not present in the schema or headers"
     ]
    }
   ],
   "source": [
    "# Item metadata dataのデータセットを作成\n",
    "create_dataset_response_im = forecast.create_dataset(\n",
    "    DatasetName=f'forecast_imd{DATA_VERSION}',\n",
    "    Domain=DOMEIN,\n",
    "    DatasetType='ITEM_METADATA',\n",
    "    DataFrequency='1M',\n",
    "    Schema={\n",
    "        'Attributes': [\n",
    "            {\n",
    "                'AttributeName': 'Model_ID',\n",
    "                'AttributeType': 'string'\n",
    "            },\n",
    "            {\n",
    "                'AttributeName': 'Model_Type',\n",
    "                'AttributeType': 'string'\n",
    "            }\n",
    "        ]\n",
    "    }\n",
    ")\n",
    "# データセットグループの配列にデータセットを追加\n",
    "datasetArn = create_dataset_response_im['DatasetArn']\n",
    "datasetArns.append(datasetArn)"
   ]
  },
  {
   "cell_type": "code",
   "execution_count": 28,
   "id": "0a304758",
   "metadata": {},
   "outputs": [
    {
     "name": "stdout",
     "output_type": "stream",
     "text": [
      "DataSet Creation OK\n"
     ]
    }
   ],
   "source": [
    "# データセットグループにデータセットを登録\n",
    "forecast.update_dataset_group(DatasetGroupArn=datasetGroupArn, DatasetArns=datasetArns)\n",
    "print(\"DataSet Creation OK\")"
   ]
  },
  {
   "cell_type": "markdown",
   "id": "3b06d66a",
   "metadata": {},
   "source": [
    "# 4.学習データのimport"
   ]
  },
  {
   "cell_type": "code",
   "execution_count": 29,
   "id": "11e7105d",
   "metadata": {},
   "outputs": [
    {
     "name": "stdout",
     "output_type": "stream",
     "text": [
      "arn:aws:iam::805433377179:role/service-role/AmazonSageMaker-ExecutionRole-20220807T102095\n"
     ]
    }
   ],
   "source": [
    "from sagemaker import get_execution_role\n",
    "\n",
    "role = get_execution_role()\n",
    "print(role)"
   ]
  },
  {
   "cell_type": "code",
   "execution_count": 30,
   "id": "11f46017",
   "metadata": {},
   "outputs": [
    {
     "data": {
      "text/plain": [
       "'s3://demo--forecast/automl/input/TTS.csv'"
      ]
     },
     "execution_count": 30,
     "metadata": {},
     "output_type": "execute_result"
    }
   ],
   "source": [
    "f's3://{bucket}/{key}/{tts_filename}'"
   ]
  },
  {
   "cell_type": "code",
   "execution_count": 31,
   "id": "a9134d61",
   "metadata": {},
   "outputs": [
    {
     "ename": "InvalidInputException",
     "evalue": "An error occurred (InvalidInputException) when calling the CreateDatasetImportJob operation: Input data is missing required attributes. Please ensure following attributes are present: [item_id, timestamp, demand, location]. Found 3 attributes in input data.",
     "output_type": "error",
     "traceback": [
      "\u001b[0;31m---------------------------------------------------------------------------\u001b[0m",
      "\u001b[0;31mInvalidInputException\u001b[0m                     Traceback (most recent call last)",
      "\u001b[0;32m/tmp/ipykernel_19683/4109586741.py\u001b[0m in \u001b[0;36m<cell line: 2>\u001b[0;34m()\u001b[0m\n\u001b[1;32m      1\u001b[0m \u001b[0;31m#学習データをアップロード(TargetTimeSeries)\u001b[0m\u001b[0;34m\u001b[0m\u001b[0;34m\u001b[0m\u001b[0;34m\u001b[0m\u001b[0m\n\u001b[0;32m----> 2\u001b[0;31m response = forecast.create_dataset_import_job(\n\u001b[0m\u001b[1;32m      3\u001b[0m     \u001b[0mDatasetImportJobName\u001b[0m\u001b[0;34m=\u001b[0m\u001b[0;34m'forecast_ttsd_import'\u001b[0m\u001b[0;34m,\u001b[0m\u001b[0;34m\u001b[0m\u001b[0;34m\u001b[0m\u001b[0m\n\u001b[1;32m      4\u001b[0m     \u001b[0mDatasetArn\u001b[0m\u001b[0;34m=\u001b[0m\u001b[0mcreate_dataset_response_tts\u001b[0m\u001b[0;34m[\u001b[0m\u001b[0;34m'DatasetArn'\u001b[0m\u001b[0;34m]\u001b[0m\u001b[0;34m,\u001b[0m\u001b[0;34m\u001b[0m\u001b[0;34m\u001b[0m\u001b[0m\n\u001b[1;32m      5\u001b[0m     DataSource={\n",
      "\u001b[0;32m~/anaconda3/envs/python3/lib/python3.8/site-packages/botocore/client.py\u001b[0m in \u001b[0;36m_api_call\u001b[0;34m(self, *args, **kwargs)\u001b[0m\n\u001b[1;32m    393\u001b[0m                     \"%s() only accepts keyword arguments.\" % py_operation_name)\n\u001b[1;32m    394\u001b[0m             \u001b[0;31m# The \"self\" in this scope is referring to the BaseClient.\u001b[0m\u001b[0;34m\u001b[0m\u001b[0;34m\u001b[0m\u001b[0;34m\u001b[0m\u001b[0m\n\u001b[0;32m--> 395\u001b[0;31m             \u001b[0;32mreturn\u001b[0m \u001b[0mself\u001b[0m\u001b[0;34m.\u001b[0m\u001b[0m_make_api_call\u001b[0m\u001b[0;34m(\u001b[0m\u001b[0moperation_name\u001b[0m\u001b[0;34m,\u001b[0m \u001b[0mkwargs\u001b[0m\u001b[0;34m)\u001b[0m\u001b[0;34m\u001b[0m\u001b[0;34m\u001b[0m\u001b[0m\n\u001b[0m\u001b[1;32m    396\u001b[0m \u001b[0;34m\u001b[0m\u001b[0m\n\u001b[1;32m    397\u001b[0m         \u001b[0m_api_call\u001b[0m\u001b[0;34m.\u001b[0m\u001b[0m__name__\u001b[0m \u001b[0;34m=\u001b[0m \u001b[0mstr\u001b[0m\u001b[0;34m(\u001b[0m\u001b[0mpy_operation_name\u001b[0m\u001b[0;34m)\u001b[0m\u001b[0;34m\u001b[0m\u001b[0;34m\u001b[0m\u001b[0m\n",
      "\u001b[0;32m~/anaconda3/envs/python3/lib/python3.8/site-packages/botocore/client.py\u001b[0m in \u001b[0;36m_make_api_call\u001b[0;34m(self, operation_name, api_params)\u001b[0m\n\u001b[1;32m    723\u001b[0m             \u001b[0merror_code\u001b[0m \u001b[0;34m=\u001b[0m \u001b[0mparsed_response\u001b[0m\u001b[0;34m.\u001b[0m\u001b[0mget\u001b[0m\u001b[0;34m(\u001b[0m\u001b[0;34m\"Error\"\u001b[0m\u001b[0;34m,\u001b[0m \u001b[0;34m{\u001b[0m\u001b[0;34m}\u001b[0m\u001b[0;34m)\u001b[0m\u001b[0;34m.\u001b[0m\u001b[0mget\u001b[0m\u001b[0;34m(\u001b[0m\u001b[0;34m\"Code\"\u001b[0m\u001b[0;34m)\u001b[0m\u001b[0;34m\u001b[0m\u001b[0;34m\u001b[0m\u001b[0m\n\u001b[1;32m    724\u001b[0m             \u001b[0merror_class\u001b[0m \u001b[0;34m=\u001b[0m \u001b[0mself\u001b[0m\u001b[0;34m.\u001b[0m\u001b[0mexceptions\u001b[0m\u001b[0;34m.\u001b[0m\u001b[0mfrom_code\u001b[0m\u001b[0;34m(\u001b[0m\u001b[0merror_code\u001b[0m\u001b[0;34m)\u001b[0m\u001b[0;34m\u001b[0m\u001b[0;34m\u001b[0m\u001b[0m\n\u001b[0;32m--> 725\u001b[0;31m             \u001b[0;32mraise\u001b[0m \u001b[0merror_class\u001b[0m\u001b[0;34m(\u001b[0m\u001b[0mparsed_response\u001b[0m\u001b[0;34m,\u001b[0m \u001b[0moperation_name\u001b[0m\u001b[0;34m)\u001b[0m\u001b[0;34m\u001b[0m\u001b[0;34m\u001b[0m\u001b[0m\n\u001b[0m\u001b[1;32m    726\u001b[0m         \u001b[0;32melse\u001b[0m\u001b[0;34m:\u001b[0m\u001b[0;34m\u001b[0m\u001b[0;34m\u001b[0m\u001b[0m\n\u001b[1;32m    727\u001b[0m             \u001b[0;32mreturn\u001b[0m \u001b[0mparsed_response\u001b[0m\u001b[0;34m\u001b[0m\u001b[0;34m\u001b[0m\u001b[0m\n",
      "\u001b[0;31mInvalidInputException\u001b[0m: An error occurred (InvalidInputException) when calling the CreateDatasetImportJob operation: Input data is missing required attributes. Please ensure following attributes are present: [item_id, timestamp, demand, location]. Found 3 attributes in input data."
     ]
    }
   ],
   "source": [
    "#学習データをアップロード(TargetTimeSeries)\n",
    "response = forecast.create_dataset_import_job(\n",
    "    DatasetImportJobName='forecast_ttsd_import',\n",
    "    DatasetArn=create_dataset_response_tts['DatasetArn'],\n",
    "    DataSource={\n",
    "        'S3Config': {\n",
    "            'Path': f's3://{bucket}/{key}/{tts_filename}',\n",
    "            'RoleArn': role,\n",
    "        }\n",
    "    },\n",
    ")\n",
    "dataset_import_job_arn_tts=response['DatasetImportJobArn']"
   ]
  },
  {
   "cell_type": "code",
   "execution_count": null,
   "id": "8aebe103",
   "metadata": {},
   "outputs": [],
   "source": [
    "#学習データをアップロード(RelatedTimeSeries)\n",
    "response = forecast.create_dataset_import_job(\n",
    "    DatasetImportJobName='forecast_rtsd_import',\n",
    "    DatasetArn=create_dataset_response_rts['DatasetArn'],\n",
    "    DataSource={\n",
    "        'S3Config': {\n",
    "            'Path': f's3://{bucket}/{key}/{rts_filename}',\n",
    "            'RoleArn': role,\n",
    "        }\n",
    "    },\n",
    "    TimestampFormat='yyyy-MM-dd HH:mm:ss'\n",
    ")\n",
    "dataset_import_job_arn_rts=response['DatasetImportJobArn']"
   ]
  },
  {
   "cell_type": "code",
   "execution_count": null,
   "id": "f1639350",
   "metadata": {},
   "outputs": [],
   "source": [
    "#学習データをアップロード(item_meta)\n",
    "response = forecast.create_dataset_import_job(\n",
    "    DatasetImportJobName='forecast_imd_import',\n",
    "    DatasetArn=create_dataset_response_im['DatasetArn'],\n",
    "    DataSource={\n",
    "        'S3Config': {\n",
    "            'Path': f's3://{bucket}/{key}/{im_filename}',\n",
    "            'RoleArn': role,\n",
    "        }\n",
    "    },\n",
    "    TimestampFormat='yyyy-MM-dd HH:mm:ss'\n",
    ")\n",
    "dataset_import_job_arn_im=response['DatasetImportJobArn']"
   ]
  },
  {
   "cell_type": "markdown",
   "id": "6e52d0e9",
   "metadata": {},
   "source": [
    "## jobの確認\n",
    "CreateDatasetImportJobのQuota limit は 3\n",
    "\n",
    "stopする場合はstop_resource()を利用\n",
    "\n",
    "https://boto3.amazonaws.com/v1/documentation/api/latest/reference/services/forecast.html#ForecastService.Client.stop_resource\n",
    "\n",
    "\n",
    "importジョブを表示\n",
    "\n",
    "https://boto3.amazonaws.com/v1/documentation/api/latest/reference/services/forecast.html#ForecastService.Client.list_dataset_import_jobs"
   ]
  },
  {
   "cell_type": "code",
   "execution_count": 28,
   "id": "59d1579d",
   "metadata": {},
   "outputs": [
    {
     "data": {
      "text/plain": [
       "{'DatasetImportJobs': [{'DatasetImportJobArn': 'arn:aws:forecast:ap-northeast-1:805433377179:dataset-import-job/forecast_imdretail11/forecast_imd_import',\n",
       "   'DatasetImportJobName': 'forecast_imd_import',\n",
       "   'DataSource': {'S3Config': {'Path': 's3://work-aws-tokyo/CustomerData/8_kds/20221115_check/input/Item+metadata+data.csv',\n",
       "     'RoleArn': 'arn:aws:iam::805433377179:role/service-role/AmazonSageMaker-ExecutionRole-20220807T102095'}},\n",
       "   'Status': 'CREATE_IN_PROGRESS',\n",
       "   'CreationTime': datetime.datetime(2022, 11, 15, 9, 21, 0, 525000, tzinfo=tzlocal()),\n",
       "   'LastModificationTime': datetime.datetime(2022, 11, 15, 9, 21, 29, 327000, tzinfo=tzlocal())},\n",
       "  {'DatasetImportJobArn': 'arn:aws:forecast:ap-northeast-1:805433377179:dataset-import-job/forecast_rtsdretail11/forecast_rtsd_import',\n",
       "   'DatasetImportJobName': 'forecast_rtsd_import',\n",
       "   'DataSource': {'S3Config': {'Path': 's3://work-aws-tokyo/CustomerData/8_kds/20221115_check/input/Related+time+series+data.csv',\n",
       "     'RoleArn': 'arn:aws:iam::805433377179:role/service-role/AmazonSageMaker-ExecutionRole-20220807T102095'}},\n",
       "   'Status': 'CREATE_IN_PROGRESS',\n",
       "   'CreationTime': datetime.datetime(2022, 11, 15, 9, 20, 59, 373000, tzinfo=tzlocal()),\n",
       "   'LastModificationTime': datetime.datetime(2022, 11, 15, 9, 21, 29, 447000, tzinfo=tzlocal())},\n",
       "  {'DatasetImportJobArn': 'arn:aws:forecast:ap-northeast-1:805433377179:dataset-import-job/forecast_ttsdretail11/forecast_ttsd_import',\n",
       "   'DatasetImportJobName': 'forecast_ttsd_import',\n",
       "   'DataSource': {'S3Config': {'Path': 's3://work-aws-tokyo/CustomerData/8_kds/20221115_check/input/Target+time+series+data.csv',\n",
       "     'RoleArn': 'arn:aws:iam::805433377179:role/service-role/AmazonSageMaker-ExecutionRole-20220807T102095'}},\n",
       "   'Status': 'CREATE_IN_PROGRESS',\n",
       "   'CreationTime': datetime.datetime(2022, 11, 15, 9, 20, 57, 916000, tzinfo=tzlocal()),\n",
       "   'LastModificationTime': datetime.datetime(2022, 11, 15, 9, 21, 0, 152000, tzinfo=tzlocal())}],\n",
       " 'ResponseMetadata': {'RequestId': 'ef66a30c-6391-48d5-8da0-30f639d39a90',\n",
       "  'HTTPStatusCode': 200,\n",
       "  'HTTPHeaders': {'date': 'Tue, 15 Nov 2022 09:21:48 GMT',\n",
       "   'content-type': 'application/x-amz-json-1.1',\n",
       "   'content-length': '1600',\n",
       "   'connection': 'keep-alive',\n",
       "   'x-amzn-requestid': 'ef66a30c-6391-48d5-8da0-30f639d39a90'},\n",
       "  'RetryAttempts': 0}}"
      ]
     },
     "execution_count": 28,
     "metadata": {},
     "output_type": "execute_result"
    }
   ],
   "source": [
    "forecast.list_dataset_import_jobs(Filters=[{\"Condition\": \"IS\",\n",
    "                                            \"Key\": \"Status\",\n",
    "                                            \"Value\": \"CREATE_IN_PROGRESS\" },\n",
    "                                          ]\n",
    "                                 )"
   ]
  },
  {
   "cell_type": "code",
   "execution_count": null,
   "id": "774d9b55",
   "metadata": {},
   "outputs": [],
   "source": [
    "#forecast.list_dataset_import_jobs()"
   ]
  },
  {
   "cell_type": "code",
   "execution_count": null,
   "id": "fad30494",
   "metadata": {},
   "outputs": [],
   "source": []
  },
  {
   "cell_type": "code",
   "execution_count": null,
   "id": "80cc1501",
   "metadata": {},
   "outputs": [],
   "source": []
  },
  {
   "cell_type": "markdown",
   "id": "cfd3eac9",
   "metadata": {},
   "source": [
    "## importが完了するまでwait\n",
    "\n",
    "https://github.com/aws-samples/amazon-forecast-samples/blob/main/notebooks/basic/Getting_Started/Amazon_Forecast_Quick_Start_Guide.ipynb"
   ]
  },
  {
   "cell_type": "markdown",
   "id": "726e1aba",
   "metadata": {},
   "source": [
    "wait関数\n",
    "\n",
    "https://github.com/aws-samples/amazon-forecast-samples/blob/65b83b2f53e11274567ab545baf8ebeca101540b/notebooks/common/util/fcst_utils.py#L35"
   ]
  },
  {
   "cell_type": "code",
   "execution_count": 39,
   "id": "115bf3a2",
   "metadata": {},
   "outputs": [],
   "source": [
    "class StatusIndicator:\n",
    "    \n",
    "    def __init__(self):\n",
    "        self.previous_status = None\n",
    "        self.need_newline = False\n",
    "        \n",
    "    def update( self, status ):\n",
    "        if self.previous_status != status:\n",
    "            if self.need_newline:\n",
    "                sys.stdout.write(\"\\n\")\n",
    "            sys.stdout.write( status + \" \")\n",
    "            self.need_newline = True\n",
    "            self.previous_status = status\n",
    "        else:\n",
    "            sys.stdout.write(\".\")\n",
    "            self.need_newline = True\n",
    "        sys.stdout.flush()\n",
    "\n",
    "    def end(self):\n",
    "        if self.need_newline:\n",
    "            sys.stdout.write(\"\\n\")"
   ]
  },
  {
   "cell_type": "code",
   "execution_count": 40,
   "id": "d9dd7ee5",
   "metadata": {},
   "outputs": [],
   "source": [
    "import time\n",
    "\n",
    "def wait(callback, time_interval = 10):\n",
    "\n",
    "    status_indicator = StatusIndicator()\n",
    "\n",
    "    while True:\n",
    "        status = callback()['Status']\n",
    "        status_indicator.update(status)\n",
    "        if status in ('ACTIVE', 'CREATE_FAILED'): break\n",
    "        time.sleep(time_interval)\n",
    "\n",
    "    status_indicator.end()\n",
    "    \n",
    "    return (status==\"ACTIVE\")"
   ]
  },
  {
   "cell_type": "code",
   "execution_count": 42,
   "id": "be664e4f",
   "metadata": {},
   "outputs": [
    {
     "name": "stdout",
     "output_type": "stream",
     "text": [
      "ACTIVE \n",
      "Import TTS OK\n",
      "CREATE_IN_PROGRESS ...............................................\n",
      "ACTIVE \n",
      "Import RTS OK\n",
      "ACTIVE \n",
      "Import IM OK\n"
     ]
    }
   ],
   "source": [
    "status = wait(lambda: forecast.describe_dataset_import_job(DatasetImportJobArn=dataset_import_job_arn_tts))\n",
    "assert status\n",
    "print(\"Import TTS OK\")\n",
    "status = wait(lambda: forecast.describe_dataset_import_job(DatasetImportJobArn=dataset_import_job_arn_rts))\n",
    "assert status\n",
    "print(\"Import RTS OK\")\n",
    "status = wait(lambda: forecast.describe_dataset_import_job(DatasetImportJobArn=dataset_import_job_arn_im))\n",
    "assert status\n",
    "print(\"Import IM OK\")"
   ]
  },
  {
   "cell_type": "markdown",
   "id": "b83edfd7",
   "metadata": {},
   "source": [
    "# predictor作成"
   ]
  },
  {
   "cell_type": "code",
   "execution_count": 44,
   "id": "04d6ac1c",
   "metadata": {},
   "outputs": [
    {
     "data": {
      "text/plain": [
       "'arn:aws:forecast:ap-northeast-1:805433377179:dataset-group/forecast_dataset11150919'"
      ]
     },
     "execution_count": 44,
     "metadata": {},
     "output_type": "execute_result"
    }
   ],
   "source": [
    "# 確認\n",
    "datasetGroupArn"
   ]
  },
  {
   "cell_type": "code",
   "execution_count": null,
   "id": "dade24a6",
   "metadata": {},
   "outputs": [
    {
     "name": "stdout",
     "output_type": "stream",
     "text": [
      "arn:aws:forecast:ap-northeast-1:805433377179:predictor/forecast_dataset_predictorretail11\n",
      "CREATE_PENDING .\n",
      "CREATE_IN_PROGRESS ....................................................................."
     ]
    }
   ],
   "source": [
    "#予測モデル作成\n",
    "response = forecast.create_predictor(\n",
    "    PredictorName=f'forecast_dataset_predictor{DATA_VERSION}',\n",
    "    ForecastHorizon=12,\n",
    "    PerformAutoML=True,\n",
    "    InputDataConfig={\n",
    "        #'DatasetGroupArn': f'arn:aws:forecast:{REGION}:00000000:dataset-group/forecast_dataset{DATA_VERSION}',\n",
    "        'DatasetGroupArn': datasetGroupArn,\n",
    "    },\n",
    "    FeaturizationConfig={\n",
    "        'ForecastFrequency': '1M'\n",
    "    }\n",
    ")\n",
    "\n",
    "\n",
    "\n",
    "predictor_arn = response['PredictorArn']\n",
    "print(predictor_arn)\n",
    "status = wait(lambda: forecast.describe_predictor(PredictorArn=predictor_arn))\n",
    "assert status"
   ]
  },
  {
   "cell_type": "markdown",
   "id": "7453305d",
   "metadata": {},
   "source": [
    "# forecast作成"
   ]
  },
  {
   "cell_type": "code",
   "execution_count": null,
   "id": "b5d23cd1",
   "metadata": {},
   "outputs": [],
   "source": [
    "# 確認\n",
    "predictor_arn"
   ]
  },
  {
   "cell_type": "code",
   "execution_count": null,
   "id": "7e3b3f3a",
   "metadata": {},
   "outputs": [],
   "source": [
    "#予測実行\n",
    "response = forecast.create_forecast(\n",
    "    ForecastName=f'create_forecast_data{DATA_VERSION}',\n",
    "    #PredictorArn=f'arn:aws:forecast:{REGION}:00000000:predictor/forecast_dataset_predictor{DATA_VERSION}',\n",
    "    PredictorArn=predictor_arn,\n",
    "    ForecastTypes=['0.1, 0.5, 0.9']\n",
    ")\n",
    "\n",
    "forecast_create_arn = response['ForecastArn']\n",
    "print(forecast_create_arn)\n",
    "status = wait(lambda: forecast_client.describe_forecast(ForecastArn=forecast_create_arn))\n",
    "assert status"
   ]
  },
  {
   "cell_type": "markdown",
   "id": "b28f62e9",
   "metadata": {},
   "source": [
    "# forecast結果をS3にexport"
   ]
  },
  {
   "cell_type": "code",
   "execution_count": null,
   "id": "8f582e41",
   "metadata": {},
   "outputs": [],
   "source": [
    "out_dir = f'{bucket}/{key}'\n",
    "out_dir"
   ]
  },
  {
   "cell_type": "code",
   "execution_count": null,
   "id": "902bd499",
   "metadata": {},
   "outputs": [],
   "source": [
    "#S3に結果を格納\n",
    "response = forecast.create_forecast_export_job(\n",
    "    ForecastExportJobName='export_forecast',\n",
    "    #ForecastArn=f'arn:aws:forecast:{REGION}:0000000:forecast/create_forecast_data{DATA_VERSION}',\n",
    "    ForecastArn=forecast_create_arn,\n",
    "    Destination={\n",
    "        'S3Config': {\n",
    "            #'Path': f's3://forecastfile/data{DATA_VERSION}',\n",
    "            'Path': f's3://forecastfile/export_forecast{DATA_VERSION}',\n",
    "            #'RoleArn': 'arn:aws:iam::000000:role/service-role/AmazonForecast-ExecutionRole-1660098289634'\n",
    "            'RoleArn': role\n",
    "        }\n",
    "    }\n",
    ")"
   ]
  },
  {
   "cell_type": "markdown",
   "id": "55071ae8",
   "metadata": {},
   "source": [
    "# clean up\n"
   ]
  },
  {
   "cell_type": "code",
   "execution_count": null,
   "id": "4a685328",
   "metadata": {},
   "outputs": [],
   "source": [
    "import boto3\n",
    "forecast = boto3.client('forecast')"
   ]
  },
  {
   "cell_type": "code",
   "execution_count": null,
   "id": "3e36efff",
   "metadata": {},
   "outputs": [],
   "source": [
    "datase_group_arn = 'arn:aws:forecast:ap-northeast-1:805433377179:dataset-group/forecast_dataset11150703'"
   ]
  },
  {
   "cell_type": "code",
   "execution_count": null,
   "id": "59973bd6",
   "metadata": {},
   "outputs": [],
   "source": [
    "forecast.delete_resource_tree(ResourceArn = datase_group_arn)"
   ]
  },
  {
   "cell_type": "markdown",
   "id": "e4c11c68",
   "metadata": {},
   "source": [
    "# 確認\n",
    "\n"
   ]
  },
  {
   "cell_type": "code",
   "execution_count": null,
   "id": "2c5a7c14",
   "metadata": {},
   "outputs": [],
   "source": []
  },
  {
   "cell_type": "code",
   "execution_count": null,
   "id": "b4a45e96",
   "metadata": {},
   "outputs": [],
   "source": []
  },
  {
   "cell_type": "code",
   "execution_count": null,
   "id": "60548172",
   "metadata": {},
   "outputs": [],
   "source": []
  },
  {
   "cell_type": "code",
   "execution_count": null,
   "id": "e627c1e1",
   "metadata": {},
   "outputs": [],
   "source": []
  },
  {
   "cell_type": "code",
   "execution_count": null,
   "id": "90cdebbf",
   "metadata": {},
   "outputs": [],
   "source": []
  },
  {
   "cell_type": "code",
   "execution_count": null,
   "id": "0bc42c05",
   "metadata": {},
   "outputs": [],
   "source": [
    "list_datasets = forecast.list_datasets()"
   ]
  },
  {
   "cell_type": "markdown",
   "id": "20647204",
   "metadata": {},
   "source": [
    "https://boto3.amazonaws.com/v1/documentation/api/latest/reference/services/forecast.html#ForecastService.Client.delete_dataset"
   ]
  },
  {
   "cell_type": "code",
   "execution_count": null,
   "id": "b1d8435a",
   "metadata": {},
   "outputs": [],
   "source": [
    "for i in range(len(list_datasets['Datasets'])):\n",
    "    print(list_datasets['Datasets'][i]['DatasetArn'])\n",
    "    forecast.delete_dataset(DatasetArn=list_datasets['Datasets'][i]['DatasetArn'])\n",
    "    "
   ]
  },
  {
   "cell_type": "code",
   "execution_count": null,
   "id": "3004b8ca",
   "metadata": {},
   "outputs": [],
   "source": [
    "#forecast.list_datasets()"
   ]
  },
  {
   "cell_type": "code",
   "execution_count": null,
   "id": "448da6c2",
   "metadata": {},
   "outputs": [],
   "source": []
  }
 ],
 "metadata": {
  "kernelspec": {
   "display_name": "conda_python3",
   "language": "python",
   "name": "conda_python3"
  },
  "language_info": {
   "codemirror_mode": {
    "name": "ipython",
    "version": 3
   },
   "file_extension": ".py",
   "mimetype": "text/x-python",
   "name": "python",
   "nbconvert_exporter": "python",
   "pygments_lexer": "ipython3",
   "version": "3.8.12"
  }
 },
 "nbformat": 4,
 "nbformat_minor": 5
}
