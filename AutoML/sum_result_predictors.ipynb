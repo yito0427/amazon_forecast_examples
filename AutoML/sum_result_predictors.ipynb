{
 "cells": [
  {
   "cell_type": "markdown",
   "id": "7b4e9ecb",
   "metadata": {},
   "source": [
    "# モデルの評価指標を集約して、DataFrameに格納する"
   ]
  },
  {
   "cell_type": "code",
   "execution_count": null,
   "id": "8dbb3f57",
   "metadata": {},
   "outputs": [],
   "source": [
    "import sys\n",
    "import os\n",
    "import boto3\n",
    "import pandas as pd"
   ]
  },
  {
   "cell_type": "code",
   "execution_count": null,
   "id": "ac93a097",
   "metadata": {},
   "outputs": [],
   "source": [
    "REGION = \"ap-northeast-1\""
   ]
  },
  {
   "cell_type": "code",
   "execution_count": null,
   "id": "abd61a76",
   "metadata": {},
   "outputs": [],
   "source": [
    "forecast = boto3.client('forecast', region_name= REGION)"
   ]
  },
  {
   "cell_type": "markdown",
   "id": "06ce780a",
   "metadata": {},
   "source": [
    "https://boto3.amazonaws.com/v1/documentation/api/1.12.6/reference/services/forecast.html#ForecastService.Client.list_predictors"
   ]
  },
  {
   "cell_type": "code",
   "execution_count": null,
   "id": "c17fcda3",
   "metadata": {},
   "outputs": [],
   "source": [
    "list_predictors = forecast.list_predictors()"
   ]
  },
  {
   "cell_type": "code",
   "execution_count": null,
   "id": "c1c1696c",
   "metadata": {},
   "outputs": [],
   "source": [
    "len(list_predictors['Predictors'])"
   ]
  },
  {
   "cell_type": "markdown",
   "id": "3f84f428",
   "metadata": {},
   "source": [
    "describe_predictor()\n",
    "\n",
    "https://boto3.amazonaws.com/v1/documentation/api/1.12.6/reference/services/forecast.html#ForecastService.Client.describe_predictor\n",
    "\n",
    "get_accuracy_metrics()\n",
    "\n",
    "https://boto3.amazonaws.com/v1/documentation/api/1.12.6/reference/services/forecast.html#ForecastService.Client.get_accuracy_metrics\n"
   ]
  },
  {
   "cell_type": "markdown",
   "id": "008957ce",
   "metadata": {},
   "source": [
    "## 1列ずつリストで作成して、DataFrame化する\n",
    "\n",
    "参考：https://qiita.com/studio_haneya/items/35951c56decd212ba41e\n",
    "\n",
    "50倍速い！"
   ]
  },
  {
   "cell_type": "code",
   "execution_count": null,
   "id": "227a7f3f",
   "metadata": {},
   "outputs": [],
   "source": [
    "# 情報格納リストの初期化\n",
    "l_PredictorArn=[]\n",
    "l_PredictorName=[]\n",
    "l_AverageWeightedQuantileLoss=[]\n",
    "l_RMSE=[]\n",
    "l_q90_LossValue=[]\n",
    "l_q50_LossValue=[]\n",
    "l_q10_LossValue=[]\n",
    "l_WAPE=[]\n",
    "l_MASE=[]\n",
    "l_MAPE=[] \n",
    "l_context_length=[]\n",
    "l_epochs=[]\n",
    "l_learning_rate=[]\n",
    "l_learning_rate_decay=[]\n",
    "l_likelihood=[]\n",
    "l_max_learning_rate_decays=[]\n",
    "l_num_averaged_models=[]\n",
    "l_num_cells=[]\n",
    "l_num_layers=[]\n",
    "l_prediction_length=[]\n",
    "\n",
    "\n",
    "for i in range(len(list_predictors['Predictors'])):\n",
    "    print(list_predictors['Predictors'][i]['PredictorArn'])\n",
    "    try:\n",
    "        # describe_predictor()\n",
    "        desc_pred = forecast.describe_predictor(PredictorArn=list_predictors['Predictors'][i]['PredictorArn'])\n",
    "        \n",
    "        if desc_pred['AutoMLAlgorithmArns'][0]!='arn:aws:forecast:::algorithm/Deep_AR_Plus':\n",
    "            print(\"not DeepAR+\")\n",
    "            desc_pred = prev_desc_pred\n",
    "            continue\n",
    "        if desc_pred['PerformAutoML']==True:\n",
    "            print(\"AutoML was used\")\n",
    "            desc_pred = prev_desc_pred\n",
    "            continue\n",
    "            \n",
    "        prev_desc_pred = desc_pred ### 取りたい対象のdesc_predを補完(上if文の戻しで利用)\n",
    "\n",
    "        # describe_predictor()\n",
    "        acc_pred = forecast.get_accuracy_metrics(PredictorArn=list_predictors['Predictors'][i]['PredictorArn'])\n",
    "        \n",
    "    except:\n",
    "        continue\n",
    "        \n",
    "    # 数値を取得して、リストに格納\n",
    "    l_PredictorArn+=[list_predictors['Predictors'][i]['PredictorArn']]\n",
    "    l_PredictorName+=[desc_pred['PredictorName']]\n",
    "    l_AverageWeightedQuantileLoss+=[acc_pred['PredictorEvaluationResults'][0]['TestWindows'][0]['Metrics']['AverageWeightedQuantileLoss']]\n",
    "    l_RMSE+=[acc_pred['PredictorEvaluationResults'][0]['TestWindows'][0]['Metrics']['RMSE']]\n",
    "    l_q90_LossValue+=[acc_pred['PredictorEvaluationResults'][0]['TestWindows'][0]['Metrics']['WeightedQuantileLosses'][0]['LossValue']]\n",
    "    l_q50_LossValue+=[acc_pred['PredictorEvaluationResults'][0]['TestWindows'][0]['Metrics']['WeightedQuantileLosses'][1]['LossValue']]\n",
    "    l_q10_LossValue+=[acc_pred['PredictorEvaluationResults'][0]['TestWindows'][0]['Metrics']['WeightedQuantileLosses'][2]['LossValue']]\n",
    "    l_WAPE+=[acc_pred['PredictorEvaluationResults'][0]['TestWindows'][0]['Metrics']['ErrorMetrics'][0]['WAPE']]\n",
    "    l_MASE+=[acc_pred['PredictorEvaluationResults'][0]['TestWindows'][0]['Metrics']['ErrorMetrics'][0]['MASE']]\n",
    "    l_MAPE+=[acc_pred['PredictorEvaluationResults'][0]['TestWindows'][0]['Metrics']['ErrorMetrics'][0]['MAPE']]\n",
    "    l_context_length+=[desc_pred['TrainingParameters']['context_length']]\n",
    "    l_epochs+=[desc_pred['TrainingParameters']['epochs']]\n",
    "    l_learning_rate+=[desc_pred['TrainingParameters']['learning_rate']]\n",
    "    l_learning_rate_decay+=[desc_pred['TrainingParameters']['learning_rate_decay']]\n",
    "    l_likelihood+=[desc_pred['TrainingParameters']['likelihood']]\n",
    "    l_max_learning_rate_decays+=[desc_pred['TrainingParameters']['max_learning_rate_decays']]\n",
    "    l_num_averaged_models+=[desc_pred['TrainingParameters']['num_averaged_models']]\n",
    "    l_num_cells+=[desc_pred['TrainingParameters']['num_cells']]\n",
    "    l_num_layers+=[desc_pred['TrainingParameters']['num_layers']]\n",
    "    l_prediction_length+=[desc_pred['TrainingParameters']['prediction_length']]\n"
   ]
  },
  {
   "cell_type": "code",
   "execution_count": null,
   "id": "578d2b56",
   "metadata": {},
   "outputs": [],
   "source": [
    "acc_pred['PredictorEvaluationResults'][0]['TestWindows'][0]['Metrics']"
   ]
  },
  {
   "cell_type": "code",
   "execution_count": null,
   "id": "31f166cf",
   "metadata": {},
   "outputs": [],
   "source": [
    "acc_pred['PredictorEvaluationResults'][0]['TestWindows'][0]['Metrics']['RMSE']\n",
    "acc_pred['PredictorEvaluationResults'][0]['TestWindows'][0]['Metrics']['WeightedQuantileLosses'][0]['LossValue']\n",
    "acc_pred['PredictorEvaluationResults'][0]['TestWindows'][0]['Metrics']['WeightedQuantileLosses'][1]['LossValue']\n",
    "acc_pred['PredictorEvaluationResults'][0]['TestWindows'][0]['Metrics']['WeightedQuantileLosses'][2]['LossValue']\n",
    "acc_pred['PredictorEvaluationResults'][0]['TestWindows'][0]['Metrics']['ErrorMetrics'][0]['WAPE']\n",
    "acc_pred['PredictorEvaluationResults'][0]['TestWindows'][0]['Metrics']['ErrorMetrics'][0]['MASE']\n",
    "acc_pred['PredictorEvaluationResults'][0]['TestWindows'][0]['Metrics']['ErrorMetrics'][0]['MAPE']"
   ]
  },
  {
   "cell_type": "markdown",
   "id": "37167e7c",
   "metadata": {},
   "source": [
    "### リスト化していた情報を列にして、DataFrameを作成"
   ]
  },
  {
   "cell_type": "code",
   "execution_count": null,
   "id": "28f620f0",
   "metadata": {},
   "outputs": [],
   "source": [
    "df = pd.DataFrame(data={'PredictorArn': l_PredictorArn,\n",
    "                        'PredictorName': l_PredictorName,\n",
    "                        'AverageWeightedQuantileLoss': l_AverageWeightedQuantileLoss,\n",
    "                        'RMSE': l_RMSE,\n",
    "                        'q90_LossValue': l_q90_LossValue,\n",
    "                        'q50_LossValue': l_q50_LossValue,\n",
    "                        'q10_LossValue': l_q10_LossValue,\n",
    "                        'WAPE': l_WAPE,\n",
    "                        'MASE': l_MASE,\n",
    "                        'MAPE': l_MAPE, \n",
    "                        'context_length': l_context_length,\n",
    "                        'epochs': l_epochs,\n",
    "                        'learning_rate': l_learning_rate,\n",
    "                        'learning_rate_decay': l_learning_rate_decay,\n",
    "                        'likelihood': l_likelihood,\n",
    "                        'max_learning_rate_decays': l_max_learning_rate_decays,\n",
    "                        'num_averaged_models': l_num_averaged_models,\n",
    "                        'num_cells': l_num_cells,\n",
    "                        'num_layers': l_num_layers,\n",
    "                        'prediction_length': l_prediction_length\n",
    "                       }\n",
    "    )"
   ]
  },
  {
   "cell_type": "code",
   "execution_count": null,
   "id": "8aa46e3a",
   "metadata": {},
   "outputs": [],
   "source": [
    "print(df.shape)\n",
    "df"
   ]
  },
  {
   "cell_type": "code",
   "execution_count": null,
   "id": "3cbd8c51",
   "metadata": {},
   "outputs": [],
   "source": [
    "# 確認\n",
    "desc_pred"
   ]
  },
  {
   "cell_type": "code",
   "execution_count": null,
   "id": "4f07069f",
   "metadata": {},
   "outputs": [],
   "source": [
    "# 確認\n",
    "acc_pred"
   ]
  },
  {
   "cell_type": "code",
   "execution_count": null,
   "id": "e0d17bd5",
   "metadata": {},
   "outputs": [],
   "source": []
  },
  {
   "cell_type": "code",
   "execution_count": null,
   "id": "07c5ef36",
   "metadata": {},
   "outputs": [],
   "source": []
  },
  {
   "cell_type": "code",
   "execution_count": null,
   "id": "197f3dc3",
   "metadata": {},
   "outputs": [],
   "source": []
  }
 ],
 "metadata": {
  "kernelspec": {
   "display_name": "conda_python3",
   "language": "python",
   "name": "conda_python3"
  },
  "language_info": {
   "codemirror_mode": {
    "name": "ipython",
    "version": 3
   },
   "file_extension": ".py",
   "mimetype": "text/x-python",
   "name": "python",
   "nbconvert_exporter": "python",
   "pygments_lexer": "ipython3",
   "version": "3.8.12"
  }
 },
 "nbformat": 4,
 "nbformat_minor": 5
}
